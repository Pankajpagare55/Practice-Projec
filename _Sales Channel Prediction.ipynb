{
 "cells": [
  {
   "cell_type": "code",
   "execution_count": 1,
   "id": "cba9ec00",
   "metadata": {},
   "outputs": [],
   "source": [
    "import pandas as pd\n",
    "import numpy as np\n",
    "\n",
    "\n",
    "import matplotlib.pyplot as plt\n",
    "import seaborn as sns\n",
    "\n",
    "from sklearn.model_selection import train_test_split,GridSearchCV,cross_val_score\n",
    "from sklearn.metrics import r2_score,mean_absolute_error,mean_squared_error\n",
    "from sklearn.preprocessing import StandardScaler,MinMaxScaler\n",
    "\n",
    "from sklearn.linear_model import LinearRegression,Lasso,LassoCV,Ridge,RidgeCV\n",
    "from sklearn.ensemble import RandomForestRegressor\n",
    "from sklearn.ensemble import AdaBoostRegressor\n",
    "from sklearn.ensemble import BaggingRegressor\n",
    "from sklearn.tree import DecisionTreeRegressor\n",
    "from sklearn.neighbors import KNeighborsRegressor"
   ]
  },
  {
   "cell_type": "code",
   "execution_count": 2,
   "id": "ed3bf714",
   "metadata": {},
   "outputs": [
    {
     "data": {
      "text/html": [
       "<div>\n",
       "<style scoped>\n",
       "    .dataframe tbody tr th:only-of-type {\n",
       "        vertical-align: middle;\n",
       "    }\n",
       "\n",
       "    .dataframe tbody tr th {\n",
       "        vertical-align: top;\n",
       "    }\n",
       "\n",
       "    .dataframe thead th {\n",
       "        text-align: right;\n",
       "    }\n",
       "</style>\n",
       "<table border=\"1\" class=\"dataframe\">\n",
       "  <thead>\n",
       "    <tr style=\"text-align: right;\">\n",
       "      <th></th>\n",
       "      <th>Unnamed: 0</th>\n",
       "      <th>TV</th>\n",
       "      <th>radio</th>\n",
       "      <th>newspaper</th>\n",
       "      <th>sales</th>\n",
       "    </tr>\n",
       "  </thead>\n",
       "  <tbody>\n",
       "    <tr>\n",
       "      <th>174</th>\n",
       "      <td>175</td>\n",
       "      <td>222.4</td>\n",
       "      <td>3.4</td>\n",
       "      <td>13.1</td>\n",
       "      <td>11.5</td>\n",
       "    </tr>\n",
       "    <tr>\n",
       "      <th>115</th>\n",
       "      <td>116</td>\n",
       "      <td>75.1</td>\n",
       "      <td>35.0</td>\n",
       "      <td>52.7</td>\n",
       "      <td>12.6</td>\n",
       "    </tr>\n",
       "    <tr>\n",
       "      <th>198</th>\n",
       "      <td>199</td>\n",
       "      <td>283.6</td>\n",
       "      <td>42.0</td>\n",
       "      <td>66.2</td>\n",
       "      <td>25.5</td>\n",
       "    </tr>\n",
       "    <tr>\n",
       "      <th>187</th>\n",
       "      <td>188</td>\n",
       "      <td>191.1</td>\n",
       "      <td>28.7</td>\n",
       "      <td>18.2</td>\n",
       "      <td>17.3</td>\n",
       "    </tr>\n",
       "    <tr>\n",
       "      <th>192</th>\n",
       "      <td>193</td>\n",
       "      <td>17.2</td>\n",
       "      <td>4.1</td>\n",
       "      <td>31.6</td>\n",
       "      <td>5.9</td>\n",
       "    </tr>\n",
       "  </tbody>\n",
       "</table>\n",
       "</div>"
      ],
      "text/plain": [
       "     Unnamed: 0     TV  radio  newspaper  sales\n",
       "174         175  222.4    3.4       13.1   11.5\n",
       "115         116   75.1   35.0       52.7   12.6\n",
       "198         199  283.6   42.0       66.2   25.5\n",
       "187         188  191.1   28.7       18.2   17.3\n",
       "192         193   17.2    4.1       31.6    5.9"
      ]
     },
     "execution_count": 2,
     "metadata": {},
     "output_type": "execute_result"
    }
   ],
   "source": [
    "data=pd.read_csv(\"https://raw.githubusercontent.com/dsrscientist/DSData/master/Advertising.csv\")\n",
    "data.sample(5)"
   ]
  },
  {
   "cell_type": "code",
   "execution_count": 3,
   "id": "f1c7d777",
   "metadata": {},
   "outputs": [
    {
     "data": {
      "text/plain": [
       "Unnamed: 0    0\n",
       "TV            0\n",
       "radio         0\n",
       "newspaper     0\n",
       "sales         0\n",
       "dtype: int64"
      ]
     },
     "execution_count": 3,
     "metadata": {},
     "output_type": "execute_result"
    }
   ],
   "source": [
    "data.isnull().sum()"
   ]
  },
  {
   "cell_type": "code",
   "execution_count": 4,
   "id": "d318b8c6",
   "metadata": {},
   "outputs": [
    {
     "data": {
      "text/plain": [
       "(200, 5)"
      ]
     },
     "execution_count": 4,
     "metadata": {},
     "output_type": "execute_result"
    }
   ],
   "source": [
    "data.shape"
   ]
  },
  {
   "cell_type": "code",
   "execution_count": 5,
   "id": "8eeb5ec5",
   "metadata": {},
   "outputs": [
    {
     "name": "stdout",
     "output_type": "stream",
     "text": [
      "<class 'pandas.core.frame.DataFrame'>\n",
      "RangeIndex: 200 entries, 0 to 199\n",
      "Data columns (total 5 columns):\n",
      " #   Column      Non-Null Count  Dtype  \n",
      "---  ------      --------------  -----  \n",
      " 0   Unnamed: 0  200 non-null    int64  \n",
      " 1   TV          200 non-null    float64\n",
      " 2   radio       200 non-null    float64\n",
      " 3   newspaper   200 non-null    float64\n",
      " 4   sales       200 non-null    float64\n",
      "dtypes: float64(4), int64(1)\n",
      "memory usage: 7.9 KB\n"
     ]
    }
   ],
   "source": [
    "data.info()"
   ]
  },
  {
   "cell_type": "markdown",
   "id": "67991a54",
   "metadata": {},
   "source": [
    "in every column there are 200 non-null floaat value except \"Unnamed: 0\" it is of integer data type that also has 200 records."
   ]
  },
  {
   "cell_type": "code",
   "execution_count": 6,
   "id": "eb1e96ba",
   "metadata": {},
   "outputs": [
    {
     "data": {
      "text/plain": [
       "['Unnamed: 0', 'TV', 'radio', 'newspaper', 'sales']"
      ]
     },
     "execution_count": 6,
     "metadata": {},
     "output_type": "execute_result"
    }
   ],
   "source": [
    "data.columns.tolist()"
   ]
  },
  {
   "cell_type": "markdown",
   "id": "f411323a",
   "metadata": {},
   "source": [
    "TV: It is the colmns through which the sales of the production are dependent while it is independent & is our feature.\n",
    "\n",
    "radio It is the colmns through which the sales of the production are dependent while it is independent & is our feature.\n",
    "\n",
    "newspaper:It is the column through which sales of the production are dependent while it is independent & is our feature \n",
    "\n",
    "sales:it is our label i.e. dependent on all features.\n"
   ]
  },
  {
   "cell_type": "markdown",
   "id": "909a91c6",
   "metadata": {},
   "source": [
    "# EDA"
   ]
  },
  {
   "cell_type": "code",
   "execution_count": 7,
   "id": "d5f79208",
   "metadata": {},
   "outputs": [
    {
     "data": {
      "image/png": "[encoded data removed]",
      "text/plain": [
       "<Figure size 1152x576 with 3 Axes>"
      ]
     },
     "metadata": {
      "needs_background": "light"
     },
     "output_type": "display_data"
    }
   ],
   "source": [
    "fig,axs=plt.subplots(1,3)\n",
    "data.plot(kind='scatter',x='TV',y='sales',ax=axs[0],figsize=(16,8))\n",
    "data.plot(kind='scatter',x='radio',y='sales',ax=axs[1])\n",
    "data.plot.scatter(x='newspaper',y='sales',ax=axs[2])\n",
    "plt.show()"
   ]
  },
  {
   "cell_type": "markdown",
   "id": "e14d0feb",
   "metadata": {},
   "source": [
    "Sales v/s TV: Here we can see that there is some linear relation between them as they are linearly dependent.\n",
    "\n",
    "Sales v/ radio: here we analyse that there is some linear relation and seems to be like consists outliers too that we                  further analyse by using boxplot.\n",
    "\n",
    "Sales v/s newspaper: Here we see there not such linear relation between them. but we have to do further analysis to make sure."
   ]
  },
  {
   "cell_type": "code",
   "execution_count": 8,
   "id": "e0092864",
   "metadata": {},
   "outputs": [
    {
     "name": "stderr",
     "output_type": "stream",
     "text": [
      "C:\\Users\\AT SYSTEM\\anaconda3\\lib\\site-packages\\seaborn\\_decorators.py:36: FutureWarning: Pass the following variable as a keyword arg: x. From version 0.12, the only valid positional argument will be `data`, and passing other arguments without an explicit keyword will result in an error or misinterpretation.\n",
      "  warnings.warn(\n",
      "C:\\Users\\AT SYSTEM\\anaconda3\\lib\\site-packages\\seaborn\\_core.py:1319: UserWarning: Vertical orientation ignored with only `x` specified.\n",
      "  warnings.warn(single_var_warning.format(\"Vertical\", \"x\"))\n",
      "C:\\Users\\AT SYSTEM\\anaconda3\\lib\\site-packages\\seaborn\\_decorators.py:36: FutureWarning: Pass the following variable as a keyword arg: x. From version 0.12, the only valid positional argument will be `data`, and passing other arguments without an explicit keyword will result in an error or misinterpretation.\n",
      "  warnings.warn(\n",
      "C:\\Users\\AT SYSTEM\\anaconda3\\lib\\site-packages\\seaborn\\_core.py:1319: UserWarning: Vertical orientation ignored with only `x` specified.\n",
      "  warnings.warn(single_var_warning.format(\"Vertical\", \"x\"))\n",
      "C:\\Users\\AT SYSTEM\\anaconda3\\lib\\site-packages\\seaborn\\_decorators.py:36: FutureWarning: Pass the following variable as a keyword arg: x. From version 0.12, the only valid positional argument will be `data`, and passing other arguments without an explicit keyword will result in an error or misinterpretation.\n",
      "  warnings.warn(\n",
      "C:\\Users\\AT SYSTEM\\anaconda3\\lib\\site-packages\\seaborn\\_core.py:1319: UserWarning: Vertical orientation ignored with only `x` specified.\n",
      "  warnings.warn(single_var_warning.format(\"Vertical\", \"x\"))\n",
      "C:\\Users\\AT SYSTEM\\anaconda3\\lib\\site-packages\\seaborn\\_decorators.py:36: FutureWarning: Pass the following variable as a keyword arg: x. From version 0.12, the only valid positional argument will be `data`, and passing other arguments without an explicit keyword will result in an error or misinterpretation.\n",
      "  warnings.warn(\n",
      "C:\\Users\\AT SYSTEM\\anaconda3\\lib\\site-packages\\seaborn\\_core.py:1319: UserWarning: Vertical orientation ignored with only `x` specified.\n",
      "  warnings.warn(single_var_warning.format(\"Vertical\", \"x\"))\n",
      "C:\\Users\\AT SYSTEM\\anaconda3\\lib\\site-packages\\seaborn\\_decorators.py:36: FutureWarning: Pass the following variable as a keyword arg: x. From version 0.12, the only valid positional argument will be `data`, and passing other arguments without an explicit keyword will result in an error or misinterpretation.\n",
      "  warnings.warn(\n",
      "C:\\Users\\AT SYSTEM\\anaconda3\\lib\\site-packages\\seaborn\\_core.py:1319: UserWarning: Vertical orientation ignored with only `x` specified.\n",
      "  warnings.warn(single_var_warning.format(\"Vertical\", \"x\"))\n"
     ]
    },
    {
     "data": {
      "image/png": "[encoded data removed]",
      "text/plain": [
       "<Figure size 2160x6480 with 5 Axes>"
      ]
     },
     "metadata": {
      "needs_background": "light"
     },
     "output_type": "display_data"
    }
   ],
   "source": [
    "collist=data.columns.values\n",
    "ncol=30\n",
    "nrow=14\n",
    "plt.figure(figsize=(ncol,3*ncol))\n",
    "for i in range(0,len(collist)):\n",
    "    plt.subplot(nrow,ncol,i+1)\n",
    "    sns.boxplot(data[collist[i]],orient='v',color='green')\n",
    "    plt.tight_layout()"
   ]
  },
  {
   "cell_type": "markdown",
   "id": "ade1828f",
   "metadata": {},
   "source": [
    "Here we come to know that in newsaper there are some outliers. while in all other columns there is no outliers"
   ]
  },
  {
   "cell_type": "code",
   "execution_count": 9,
   "id": "6664433e",
   "metadata": {},
   "outputs": [
    {
     "name": "stderr",
     "output_type": "stream",
     "text": [
      "C:\\Users\\AT SYSTEM\\anaconda3\\lib\\site-packages\\seaborn\\distributions.py:2557: FutureWarning: `distplot` is a deprecated function and will be removed in a future version. Please adapt your code to use either `displot` (a figure-level function with similar flexibility) or `histplot` (an axes-level function for histograms).\n",
      "  warnings.warn(msg, FutureWarning)\n",
      "C:\\Users\\AT SYSTEM\\anaconda3\\lib\\site-packages\\seaborn\\distributions.py:2557: FutureWarning: `distplot` is a deprecated function and will be removed in a future version. Please adapt your code to use either `displot` (a figure-level function with similar flexibility) or `histplot` (an axes-level function for histograms).\n",
      "  warnings.warn(msg, FutureWarning)\n",
      "C:\\Users\\AT SYSTEM\\anaconda3\\lib\\site-packages\\seaborn\\distributions.py:2557: FutureWarning: `distplot` is a deprecated function and will be removed in a future version. Please adapt your code to use either `displot` (a figure-level function with similar flexibility) or `histplot` (an axes-level function for histograms).\n",
      "  warnings.warn(msg, FutureWarning)\n",
      "C:\\Users\\AT SYSTEM\\anaconda3\\lib\\site-packages\\seaborn\\distributions.py:2557: FutureWarning: `distplot` is a deprecated function and will be removed in a future version. Please adapt your code to use either `displot` (a figure-level function with similar flexibility) or `histplot` (an axes-level function for histograms).\n",
      "  warnings.warn(msg, FutureWarning)\n"
     ]
    },
    {
     "data": {
      "image/png": "[encoded data removed]",
      "text/plain": [
       "<Figure size 1440x1440 with 4 Axes>"
      ]
     },
     "metadata": {
      "needs_background": "light"
     },
     "output_type": "display_data"
    }
   ],
   "source": [
    "plt.figure(figsize=(20,20))\n",
    "graph=1\n",
    "for col in data.iloc[:,:-1]:\n",
    "    if graph<5:\n",
    "    \n",
    "        plt.subplot(2,3,graph)\n",
    "        sns.distplot(data[col],color='green')\n",
    "    graph+=1\n",
    "plt.tight_layout()"
   ]
  },
  {
   "cell_type": "markdown",
   "id": "b66382cd",
   "metadata": {},
   "source": [
    "Its seems like the newspaper column is skewed. It is not symmetric while all other seems to be symmetric."
   ]
  },
  {
   "cell_type": "code",
   "execution_count": 10,
   "id": "e4abaf90",
   "metadata": {},
   "outputs": [
    {
     "data": {
      "text/plain": [
       "Unnamed: 0    0.000000\n",
       "TV           -0.069853\n",
       "radio         0.094175\n",
       "newspaper     0.894720\n",
       "sales         0.407571\n",
       "dtype: float64"
      ]
     },
     "execution_count": 10,
     "metadata": {},
     "output_type": "execute_result"
    }
   ],
   "source": [
    "data.skew()"
   ]
  },
  {
   "cell_type": "markdown",
   "id": "c38ea347",
   "metadata": {},
   "source": [
    "from above information we can conclude that the newspaper is skewed as it is not in range -0.5 to 0.5"
   ]
  },
  {
   "cell_type": "code",
   "execution_count": 11,
   "id": "941dc7cc",
   "metadata": {},
   "outputs": [
    {
     "data": {
      "text/plain": [
       "<AxesSubplot:>"
      ]
     },
     "execution_count": 11,
     "metadata": {},
     "output_type": "execute_result"
    },
    {
     "data": {
      "image/png": "[encoded data removed]",
      "text/plain": [
       "<Figure size 432x288 with 1 Axes>"
      ]
     },
     "metadata": {
      "needs_background": "light"
     },
     "output_type": "display_data"
    }
   ],
   "source": [
    "data[['Unnamed: 0','TV','radio','newspaper']].corrwith(data['sales']).plot(kind='bar',color='red')"
   ]
  },
  {
   "cell_type": "markdown",
   "id": "181283b6",
   "metadata": {},
   "source": [
    "Here we can see the relation the features with the target. we analyse that the \"sales\" is highly dependent on the feature i.e.\"TV\" then \"radio\" then \"newspaper\" & then the \"Unnamed: 0\""
   ]
  },
  {
   "cell_type": "code",
   "execution_count": 12,
   "id": "53b481bc",
   "metadata": {},
   "outputs": [
    {
     "data": {
      "image/png": "[encoded data removed]",
      "text/plain": [
       "<Figure size 360x360 with 2 Axes>"
      ]
     },
     "metadata": {
      "needs_background": "light"
     },
     "output_type": "display_data"
    }
   ],
   "source": [
    "plt.figure(figsize=(5,5))\n",
    "sns.heatmap(data.corr().abs(),annot=True,annot_kws={\"size\":15},linewidths=True)\n",
    "plt.show()"
   ]
  },
  {
   "cell_type": "markdown",
   "id": "4f4e712f",
   "metadata": {},
   "source": [
    " we can see there is no multi-colinearity. And the TV gives 78%, radio gives 58%, newspaper gives 23% contribution to predict the sales. As the the Unnamed:0 column is nominal that we can drop and also contribute 5%."
   ]
  },
  {
   "cell_type": "markdown",
   "id": "c56d65b1",
   "metadata": {},
   "source": [
    "# Hypothesis testing & p_value"
   ]
  },
  {
   "cell_type": "markdown",
   "id": "4399956b",
   "metadata": {},
   "source": [
    "Ho: No relationship exists between TV & sales, radio & sales, newspaper & sales.\n",
    "\n",
    "H1: reltionship exists between tv & sales, radio & sales, newspaper & sales."
   ]
  },
  {
   "cell_type": "code",
   "execution_count": 13,
   "id": "98edbdfa",
   "metadata": {},
   "outputs": [],
   "source": [
    "import statsmodels.formula.api as smf\n",
    "lm=smf.ols(formula='sales~TV+radio+newspaper',data=data).fit()"
   ]
  },
  {
   "cell_type": "code",
   "execution_count": 14,
   "id": "4e1bdf0a",
   "metadata": {},
   "outputs": [
    {
     "data": {
      "text/plain": [
       "Intercept    1.267295e-17\n",
       "TV           1.509960e-81\n",
       "radio        1.505339e-54\n",
       "newspaper    8.599151e-01\n",
       "dtype: float64"
      ]
     },
     "execution_count": 14,
     "metadata": {},
     "output_type": "execute_result"
    }
   ],
   "source": [
    "lm.pvalues"
   ]
  },
  {
   "cell_type": "markdown",
   "id": "45b3f465",
   "metadata": {},
   "source": [
    "TV,radio rejects to accept the null hypothesis as its p_valus is less that 0.05 while newspaper accepts the null hypothesis as its pvalues is greter than than 0.05"
   ]
  },
  {
   "cell_type": "code",
   "execution_count": 15,
   "id": "e734b82e",
   "metadata": {},
   "outputs": [
    {
     "data": {
      "text/html": [
       "<table class=\"simpletable\">\n",
       "<caption>OLS Regression Results</caption>\n",
       "<tr>\n",
       "  <th>Dep. Variable:</th>          <td>sales</td>      <th>  R-squared:         </th> <td>   0.897</td>\n",
       "</tr>\n",
       "<tr>\n",
       "  <th>Model:</th>                   <td>OLS</td>       <th>  Adj. R-squared:    </th> <td>   0.896</td>\n",
       "</tr>\n",
       "<tr>\n",
       "  <th>Method:</th>             <td>Least Squares</td>  <th>  F-statistic:       </th> <td>   570.3</td>\n",
       "</tr>\n",
       "<tr>\n",
       "  <th>Date:</th>             <td>Mon, 03 Jan 2022</td> <th>  Prob (F-statistic):</th> <td>1.58e-96</td>\n",
       "</tr>\n",
       "<tr>\n",
       "  <th>Time:</th>                 <td>02:39:57</td>     <th>  Log-Likelihood:    </th> <td> -386.18</td>\n",
       "</tr>\n",
       "<tr>\n",
       "  <th>No. Observations:</th>      <td>   200</td>      <th>  AIC:               </th> <td>   780.4</td>\n",
       "</tr>\n",
       "<tr>\n",
       "  <th>Df Residuals:</th>          <td>   196</td>      <th>  BIC:               </th> <td>   793.6</td>\n",
       "</tr>\n",
       "<tr>\n",
       "  <th>Df Model:</th>              <td>     3</td>      <th>                     </th>     <td> </td>   \n",
       "</tr>\n",
       "<tr>\n",
       "  <th>Covariance Type:</th>      <td>nonrobust</td>    <th>                     </th>     <td> </td>   \n",
       "</tr>\n",
       "</table>\n",
       "<table class=\"simpletable\">\n",
       "<tr>\n",
       "      <td></td>         <th>coef</th>     <th>std err</th>      <th>t</th>      <th>P>|t|</th>  <th>[0.025</th>    <th>0.975]</th>  \n",
       "</tr>\n",
       "<tr>\n",
       "  <th>Intercept</th> <td>    2.9389</td> <td>    0.312</td> <td>    9.422</td> <td> 0.000</td> <td>    2.324</td> <td>    3.554</td>\n",
       "</tr>\n",
       "<tr>\n",
       "  <th>TV</th>        <td>    0.0458</td> <td>    0.001</td> <td>   32.809</td> <td> 0.000</td> <td>    0.043</td> <td>    0.049</td>\n",
       "</tr>\n",
       "<tr>\n",
       "  <th>radio</th>     <td>    0.1885</td> <td>    0.009</td> <td>   21.893</td> <td> 0.000</td> <td>    0.172</td> <td>    0.206</td>\n",
       "</tr>\n",
       "<tr>\n",
       "  <th>newspaper</th> <td>   -0.0010</td> <td>    0.006</td> <td>   -0.177</td> <td> 0.860</td> <td>   -0.013</td> <td>    0.011</td>\n",
       "</tr>\n",
       "</table>\n",
       "<table class=\"simpletable\">\n",
       "<tr>\n",
       "  <th>Omnibus:</th>       <td>60.414</td> <th>  Durbin-Watson:     </th> <td>   2.084</td>\n",
       "</tr>\n",
       "<tr>\n",
       "  <th>Prob(Omnibus):</th> <td> 0.000</td> <th>  Jarque-Bera (JB):  </th> <td> 151.241</td>\n",
       "</tr>\n",
       "<tr>\n",
       "  <th>Skew:</th>          <td>-1.327</td> <th>  Prob(JB):          </th> <td>1.44e-33</td>\n",
       "</tr>\n",
       "<tr>\n",
       "  <th>Kurtosis:</th>      <td> 6.332</td> <th>  Cond. No.          </th> <td>    454.</td>\n",
       "</tr>\n",
       "</table><br/><br/>Notes:<br/>[1] Standard Errors assume that the covariance matrix of the errors is correctly specified."
      ],
      "text/plain": [
       "<class 'statsmodels.iolib.summary.Summary'>\n",
       "\"\"\"\n",
       "                            OLS Regression Results                            \n",
       "==============================================================================\n",
       "Dep. Variable:                  sales   R-squared:                       0.897\n",
       "Model:                            OLS   Adj. R-squared:                  0.896\n",
       "Method:                 Least Squares   F-statistic:                     570.3\n",
       "Date:                Mon, 03 Jan 2022   Prob (F-statistic):           1.58e-96\n",
       "Time:                        02:39:57   Log-Likelihood:                -386.18\n",
       "No. Observations:                 200   AIC:                             780.4\n",
       "Df Residuals:                     196   BIC:                             793.6\n",
       "Df Model:                           3                                         \n",
       "Covariance Type:            nonrobust                                         \n",
       "==============================================================================\n",
       "                 coef    std err          t      P>|t|      [0.025      0.975]\n",
       "------------------------------------------------------------------------------\n",
       "Intercept      2.9389      0.312      9.422      0.000       2.324       3.554\n",
       "TV             0.0458      0.001     32.809      0.000       0.043       0.049\n",
       "radio          0.1885      0.009     21.893      0.000       0.172       0.206\n",
       "newspaper     -0.0010      0.006     -0.177      0.860      -0.013       0.011\n",
       "==============================================================================\n",
       "Omnibus:                       60.414   Durbin-Watson:                   2.084\n",
       "Prob(Omnibus):                  0.000   Jarque-Bera (JB):              151.241\n",
       "Skew:                          -1.327   Prob(JB):                     1.44e-33\n",
       "Kurtosis:                       6.332   Cond. No.                         454.\n",
       "==============================================================================\n",
       "\n",
       "Notes:\n",
       "[1] Standard Errors assume that the covariance matrix of the errors is correctly specified.\n",
       "\"\"\""
      ]
     },
     "execution_count": 15,
     "metadata": {},
     "output_type": "execute_result"
    }
   ],
   "source": [
    "lm.summary()"
   ]
  },
  {
   "cell_type": "markdown",
   "id": "b1e12b52",
   "metadata": {},
   "source": [
    "Standard Errors assume that the covariance matrix of the errors is correctly specified.\n",
    "here we an see applying newspaper, radio and TV columns for fetures to predict the sales the adjusted r-squared value is 0.89."
   ]
  },
  {
   "cell_type": "code",
   "execution_count": 16,
   "id": "60d885b0",
   "metadata": {},
   "outputs": [],
   "source": [
    "import statsmodels.formula.api as smf\n",
    "lm=smf.ols(formula='sales~TV+radio',data=data).fit()"
   ]
  },
  {
   "cell_type": "code",
   "execution_count": 17,
   "id": "6c9fdadb",
   "metadata": {},
   "outputs": [
    {
     "data": {
      "text/html": [
       "<table class=\"simpletable\">\n",
       "<caption>OLS Regression Results</caption>\n",
       "<tr>\n",
       "  <th>Dep. Variable:</th>          <td>sales</td>      <th>  R-squared:         </th> <td>   0.897</td>\n",
       "</tr>\n",
       "<tr>\n",
       "  <th>Model:</th>                   <td>OLS</td>       <th>  Adj. R-squared:    </th> <td>   0.896</td>\n",
       "</tr>\n",
       "<tr>\n",
       "  <th>Method:</th>             <td>Least Squares</td>  <th>  F-statistic:       </th> <td>   859.6</td>\n",
       "</tr>\n",
       "<tr>\n",
       "  <th>Date:</th>             <td>Mon, 03 Jan 2022</td> <th>  Prob (F-statistic):</th> <td>4.83e-98</td>\n",
       "</tr>\n",
       "<tr>\n",
       "  <th>Time:</th>                 <td>02:39:57</td>     <th>  Log-Likelihood:    </th> <td> -386.20</td>\n",
       "</tr>\n",
       "<tr>\n",
       "  <th>No. Observations:</th>      <td>   200</td>      <th>  AIC:               </th> <td>   778.4</td>\n",
       "</tr>\n",
       "<tr>\n",
       "  <th>Df Residuals:</th>          <td>   197</td>      <th>  BIC:               </th> <td>   788.3</td>\n",
       "</tr>\n",
       "<tr>\n",
       "  <th>Df Model:</th>              <td>     2</td>      <th>                     </th>     <td> </td>   \n",
       "</tr>\n",
       "<tr>\n",
       "  <th>Covariance Type:</th>      <td>nonrobust</td>    <th>                     </th>     <td> </td>   \n",
       "</tr>\n",
       "</table>\n",
       "<table class=\"simpletable\">\n",
       "<tr>\n",
       "      <td></td>         <th>coef</th>     <th>std err</th>      <th>t</th>      <th>P>|t|</th>  <th>[0.025</th>    <th>0.975]</th>  \n",
       "</tr>\n",
       "<tr>\n",
       "  <th>Intercept</th> <td>    2.9211</td> <td>    0.294</td> <td>    9.919</td> <td> 0.000</td> <td>    2.340</td> <td>    3.502</td>\n",
       "</tr>\n",
       "<tr>\n",
       "  <th>TV</th>        <td>    0.0458</td> <td>    0.001</td> <td>   32.909</td> <td> 0.000</td> <td>    0.043</td> <td>    0.048</td>\n",
       "</tr>\n",
       "<tr>\n",
       "  <th>radio</th>     <td>    0.1880</td> <td>    0.008</td> <td>   23.382</td> <td> 0.000</td> <td>    0.172</td> <td>    0.204</td>\n",
       "</tr>\n",
       "</table>\n",
       "<table class=\"simpletable\">\n",
       "<tr>\n",
       "  <th>Omnibus:</th>       <td>60.022</td> <th>  Durbin-Watson:     </th> <td>   2.081</td>\n",
       "</tr>\n",
       "<tr>\n",
       "  <th>Prob(Omnibus):</th> <td> 0.000</td> <th>  Jarque-Bera (JB):  </th> <td> 148.679</td>\n",
       "</tr>\n",
       "<tr>\n",
       "  <th>Skew:</th>          <td>-1.323</td> <th>  Prob(JB):          </th> <td>5.19e-33</td>\n",
       "</tr>\n",
       "<tr>\n",
       "  <th>Kurtosis:</th>      <td> 6.292</td> <th>  Cond. No.          </th> <td>    425.</td>\n",
       "</tr>\n",
       "</table><br/><br/>Notes:<br/>[1] Standard Errors assume that the covariance matrix of the errors is correctly specified."
      ],
      "text/plain": [
       "<class 'statsmodels.iolib.summary.Summary'>\n",
       "\"\"\"\n",
       "                            OLS Regression Results                            \n",
       "==============================================================================\n",
       "Dep. Variable:                  sales   R-squared:                       0.897\n",
       "Model:                            OLS   Adj. R-squared:                  0.896\n",
       "Method:                 Least Squares   F-statistic:                     859.6\n",
       "Date:                Mon, 03 Jan 2022   Prob (F-statistic):           4.83e-98\n",
       "Time:                        02:39:57   Log-Likelihood:                -386.20\n",
       "No. Observations:                 200   AIC:                             778.4\n",
       "Df Residuals:                     197   BIC:                             788.3\n",
       "Df Model:                           2                                         \n",
       "Covariance Type:            nonrobust                                         \n",
       "==============================================================================\n",
       "                 coef    std err          t      P>|t|      [0.025      0.975]\n",
       "------------------------------------------------------------------------------\n",
       "Intercept      2.9211      0.294      9.919      0.000       2.340       3.502\n",
       "TV             0.0458      0.001     32.909      0.000       0.043       0.048\n",
       "radio          0.1880      0.008     23.382      0.000       0.172       0.204\n",
       "==============================================================================\n",
       "Omnibus:                       60.022   Durbin-Watson:                   2.081\n",
       "Prob(Omnibus):                  0.000   Jarque-Bera (JB):              148.679\n",
       "Skew:                          -1.323   Prob(JB):                     5.19e-33\n",
       "Kurtosis:                       6.292   Cond. No.                         425.\n",
       "==============================================================================\n",
       "\n",
       "Notes:\n",
       "[1] Standard Errors assume that the covariance matrix of the errors is correctly specified.\n",
       "\"\"\""
      ]
     },
     "execution_count": 17,
     "metadata": {},
     "output_type": "execute_result"
    }
   ],
   "source": [
    "lm.summary()"
   ]
  },
  {
   "cell_type": "markdown",
   "id": "dfa71d01",
   "metadata": {},
   "source": [
    "Conclusion of EDA\n",
    "\n",
    "we conclde that the column:\n",
    "\n",
    "Unnamed:0 -> it is nominal variable that contributing 5% to predict. so, its better to remove this column from features.\n",
    "\n",
    "TV:---> It is continous variable that contributing 78%  for the prediction of sale. And its p_value is less than 0.05 so it can be used as feature.\n",
    "\n",
    "radio:---> It is continous variable that contributing 58%  for the prediction of sale. And its p_value is less than 0.05 so it can be used as feature.\n",
    "\n",
    "newspaper:--->It is continous variable that contributing 23%  for the prediction of sale. But its p_value is more than 0.05 so it "
   ]
  },
  {
   "cell_type": "markdown",
   "id": "fed5f41f",
   "metadata": {},
   "source": [
    "# Data Cleaning"
   ]
  },
  {
   "cell_type": "code",
   "execution_count": 18,
   "id": "d57d7bcd",
   "metadata": {},
   "outputs": [],
   "source": [
    "data.drop_duplicates(inplace=True)"
   ]
  },
  {
   "cell_type": "code",
   "execution_count": 19,
   "id": "e91b2569",
   "metadata": {},
   "outputs": [],
   "source": [
    "data.drop(columns=[\"Unnamed: 0\",\"newspaper\"],axis=1,inplace=True)"
   ]
  },
  {
   "cell_type": "markdown",
   "id": "b5bcb981",
   "metadata": {},
   "source": [
    "removed columns \"Unnamed:0\", \"newspaper\""
   ]
  },
  {
   "cell_type": "code",
   "execution_count": 20,
   "id": "58e16e76",
   "metadata": {},
   "outputs": [
    {
     "data": {
      "text/plain": [
       "(200, 3)"
      ]
     },
     "execution_count": 20,
     "metadata": {},
     "output_type": "execute_result"
    }
   ],
   "source": [
    "data.shape"
   ]
  },
  {
   "cell_type": "code",
   "execution_count": 21,
   "id": "b388125a",
   "metadata": {},
   "outputs": [
    {
     "data": {
      "image/png": "[encoded data removed]",
      "text/plain": [
       "<Figure size 1152x576 with 2 Axes>"
      ]
     },
     "metadata": {
      "needs_background": "light"
     },
     "output_type": "display_data"
    }
   ],
   "source": [
    "fig,axs=plt.subplots(1,2 )\n",
    "data['TV'].plot(kind='hist',ax=axs[0],figsize=(16,8))\n",
    "data[\"radio\"].plot(kind='hist',ax=axs[1])\n",
    "plt.show()"
   ]
  },
  {
   "cell_type": "markdown",
   "id": "e5fa4c91",
   "metadata": {},
   "source": [
    "TV,radio are distributed normally and not skewed"
   ]
  },
  {
   "cell_type": "code",
   "execution_count": 22,
   "id": "90c085cb",
   "metadata": {},
   "outputs": [
    {
     "data": {
      "text/plain": [
       "TV      -0.069853\n",
       "radio    0.094175\n",
       "sales    0.407571\n",
       "dtype: float64"
      ]
     },
     "execution_count": 22,
     "metadata": {},
     "output_type": "execute_result"
    }
   ],
   "source": [
    "data.skew()"
   ]
  },
  {
   "cell_type": "markdown",
   "id": "7aeef6da",
   "metadata": {},
   "source": [
    "all columns are in range -0.5 to 0.5 thats mean no column is skewed."
   ]
  },
  {
   "cell_type": "code",
   "execution_count": 23,
   "id": "d5d8ca6a",
   "metadata": {},
   "outputs": [
    {
     "name": "stderr",
     "output_type": "stream",
     "text": [
      "C:\\Users\\AT SYSTEM\\anaconda3\\lib\\site-packages\\seaborn\\_decorators.py:36: FutureWarning: Pass the following variable as a keyword arg: x. From version 0.12, the only valid positional argument will be `data`, and passing other arguments without an explicit keyword will result in an error or misinterpretation.\n",
      "  warnings.warn(\n",
      "C:\\Users\\AT SYSTEM\\anaconda3\\lib\\site-packages\\seaborn\\_core.py:1319: UserWarning: Vertical orientation ignored with only `x` specified.\n",
      "  warnings.warn(single_var_warning.format(\"Vertical\", \"x\"))\n",
      "C:\\Users\\AT SYSTEM\\anaconda3\\lib\\site-packages\\seaborn\\_decorators.py:36: FutureWarning: Pass the following variable as a keyword arg: x. From version 0.12, the only valid positional argument will be `data`, and passing other arguments without an explicit keyword will result in an error or misinterpretation.\n",
      "  warnings.warn(\n",
      "C:\\Users\\AT SYSTEM\\anaconda3\\lib\\site-packages\\seaborn\\_core.py:1319: UserWarning: Vertical orientation ignored with only `x` specified.\n",
      "  warnings.warn(single_var_warning.format(\"Vertical\", \"x\"))\n",
      "C:\\Users\\AT SYSTEM\\anaconda3\\lib\\site-packages\\seaborn\\_decorators.py:36: FutureWarning: Pass the following variable as a keyword arg: x. From version 0.12, the only valid positional argument will be `data`, and passing other arguments without an explicit keyword will result in an error or misinterpretation.\n",
      "  warnings.warn(\n",
      "C:\\Users\\AT SYSTEM\\anaconda3\\lib\\site-packages\\seaborn\\_core.py:1319: UserWarning: Vertical orientation ignored with only `x` specified.\n",
      "  warnings.warn(single_var_warning.format(\"Vertical\", \"x\"))\n"
     ]
    },
    {
     "data": {
      "image/png": "[encoded data removed]",
      "text/plain": [
       "<Figure size 1440x6336 with 3 Axes>"
      ]
     },
     "metadata": {
      "needs_background": "light"
     },
     "output_type": "display_data"
    }
   ],
   "source": [
    "collist=data.columns.values\n",
    "plt.figure(figsize=(20,88))\n",
    "for i in range(0,len(collist)):\n",
    "    plt.subplot(20,5,i+1)\n",
    "    sns.boxplot(data[collist[i]],orient='v',color='green')\n",
    "    plt.tight_layout()"
   ]
  },
  {
   "cell_type": "markdown",
   "id": "891fe417",
   "metadata": {},
   "source": [
    "there are no outliers in the data"
   ]
  },
  {
   "cell_type": "code",
   "execution_count": 24,
   "id": "02d31d1c",
   "metadata": {},
   "outputs": [
    {
     "data": {
      "text/plain": [
       "(200, 3)"
      ]
     },
     "execution_count": 24,
     "metadata": {},
     "output_type": "execute_result"
    }
   ],
   "source": [
    "data.shape"
   ]
  },
  {
   "cell_type": "code",
   "execution_count": 25,
   "id": "931ee528",
   "metadata": {},
   "outputs": [
    {
     "data": {
      "text/plain": [
       "0.0"
      ]
     },
     "execution_count": 25,
     "metadata": {},
     "output_type": "execute_result"
    }
   ],
   "source": [
    "data_loss=(200-200)/200\n",
    "data_loss"
   ]
  },
  {
   "cell_type": "markdown",
   "id": "558ff4b5",
   "metadata": {},
   "source": [
    "data is not lost before cleaning And after cleaning there are 200 records. So, data lost is 0.0%"
   ]
  },
  {
   "cell_type": "code",
   "execution_count": 26,
   "id": "28df5097",
   "metadata": {},
   "outputs": [
    {
     "data": {
      "text/html": [
       "<div>\n",
       "<style scoped>\n",
       "    .dataframe tbody tr th:only-of-type {\n",
       "        vertical-align: middle;\n",
       "    }\n",
       "\n",
       "    .dataframe tbody tr th {\n",
       "        vertical-align: top;\n",
       "    }\n",
       "\n",
       "    .dataframe thead th {\n",
       "        text-align: right;\n",
       "    }\n",
       "</style>\n",
       "<table border=\"1\" class=\"dataframe\">\n",
       "  <thead>\n",
       "    <tr style=\"text-align: right;\">\n",
       "      <th></th>\n",
       "      <th>TV</th>\n",
       "      <th>radio</th>\n",
       "      <th>sales</th>\n",
       "    </tr>\n",
       "  </thead>\n",
       "  <tbody>\n",
       "    <tr>\n",
       "      <th>count</th>\n",
       "      <td>200.000000</td>\n",
       "      <td>200.000000</td>\n",
       "      <td>200.000000</td>\n",
       "    </tr>\n",
       "    <tr>\n",
       "      <th>mean</th>\n",
       "      <td>147.042500</td>\n",
       "      <td>23.264000</td>\n",
       "      <td>14.022500</td>\n",
       "    </tr>\n",
       "    <tr>\n",
       "      <th>std</th>\n",
       "      <td>85.854236</td>\n",
       "      <td>14.846809</td>\n",
       "      <td>5.217457</td>\n",
       "    </tr>\n",
       "    <tr>\n",
       "      <th>min</th>\n",
       "      <td>0.700000</td>\n",
       "      <td>0.000000</td>\n",
       "      <td>1.600000</td>\n",
       "    </tr>\n",
       "    <tr>\n",
       "      <th>25%</th>\n",
       "      <td>74.375000</td>\n",
       "      <td>9.975000</td>\n",
       "      <td>10.375000</td>\n",
       "    </tr>\n",
       "    <tr>\n",
       "      <th>50%</th>\n",
       "      <td>149.750000</td>\n",
       "      <td>22.900000</td>\n",
       "      <td>12.900000</td>\n",
       "    </tr>\n",
       "    <tr>\n",
       "      <th>75%</th>\n",
       "      <td>218.825000</td>\n",
       "      <td>36.525000</td>\n",
       "      <td>17.400000</td>\n",
       "    </tr>\n",
       "    <tr>\n",
       "      <th>max</th>\n",
       "      <td>296.400000</td>\n",
       "      <td>49.600000</td>\n",
       "      <td>27.000000</td>\n",
       "    </tr>\n",
       "  </tbody>\n",
       "</table>\n",
       "</div>"
      ],
      "text/plain": [
       "               TV       radio       sales\n",
       "count  200.000000  200.000000  200.000000\n",
       "mean   147.042500   23.264000   14.022500\n",
       "std     85.854236   14.846809    5.217457\n",
       "min      0.700000    0.000000    1.600000\n",
       "25%     74.375000    9.975000   10.375000\n",
       "50%    149.750000   22.900000   12.900000\n",
       "75%    218.825000   36.525000   17.400000\n",
       "max    296.400000   49.600000   27.000000"
      ]
     },
     "execution_count": 26,
     "metadata": {},
     "output_type": "execute_result"
    }
   ],
   "source": [
    "data.describe()"
   ]
  },
  {
   "cell_type": "markdown",
   "id": "d699cefb",
   "metadata": {},
   "source": [
    "we can see that the TV has min value i.e. 0.7 and radio has min value i.e. 0.0 that can be quite possible. Sometimes the producer is not spending much money on advertisement and also got the benefits."
   ]
  },
  {
   "cell_type": "markdown",
   "id": "f653347c",
   "metadata": {},
   "source": [
    "# Model Deployment"
   ]
  },
  {
   "cell_type": "code",
   "execution_count": 27,
   "id": "1ad1df1e",
   "metadata": {},
   "outputs": [],
   "source": [
    "X=data[[\"TV\",\"radio\"]]\n",
    "Y=data.sales"
   ]
  },
  {
   "cell_type": "markdown",
   "id": "ac7bf324",
   "metadata": {},
   "source": [
    "splitting data into fetures & labels.\n",
    "\n",
    "Here X is our features & Y is our label."
   ]
  },
  {
   "cell_type": "code",
   "execution_count": 28,
   "id": "1a293453",
   "metadata": {},
   "outputs": [],
   "source": [
    "mms=MinMaxScaler()\n",
    "X_scaled=mms.fit_transform(X)"
   ]
  },
  {
   "cell_type": "markdown",
   "id": "d2292af2",
   "metadata": {},
   "source": [
    "Standarized the features using MinMaxScalar technique"
   ]
  },
  {
   "cell_type": "code",
   "execution_count": 29,
   "id": "e405de4c",
   "metadata": {},
   "outputs": [
    {
     "name": "stdout",
     "output_type": "stream",
     "text": [
      "The highest accuracy is 95.22328786133319 at random state 92\n"
     ]
    }
   ],
   "source": [
    "max_accuracy=0\n",
    "for i in range(1,150):\n",
    "    X_train,X_test,Y_train,Y_test=train_test_split(X_scaled,Y,test_size=0.2,random_state=i)\n",
    "    lr=LinearRegression()\n",
    "    lr.fit(X_train,Y_train)\n",
    "    Y_pred=lr.predict(X_test)\n",
    "    accuracy=r2_score(Y_test,Y_pred)*100\n",
    "    if accuracy>max_accuracy:\n",
    "        max_accuracy=accuracy\n",
    "        rs=i\n",
    "print(f\"The highest accuracy is {max_accuracy} at random state {rs}\")\n",
    "    "
   ]
  },
  {
   "cell_type": "code",
   "execution_count": 30,
   "id": "0592028b",
   "metadata": {},
   "outputs": [],
   "source": [
    "X_train,X_test,Y_train,Y_test=train_test_split(X_scaled,Y,test_size=0.2,random_state=rs)"
   ]
  },
  {
   "cell_type": "markdown",
   "id": "d3613c08",
   "metadata": {},
   "source": [
    "we split the training dataset & test dataset at random state rs i.e. 92 where we get the high accuracy"
   ]
  },
  {
   "cell_type": "code",
   "execution_count": 31,
   "id": "18e45c28",
   "metadata": {},
   "outputs": [],
   "source": [
    "Linear=LinearRegression()\n",
    "DecisionTree=DecisionTreeRegressor()\n",
    "knn=KNeighborsRegressor()\n",
    "RandomForest=RandomForestRegressor()\n",
    "AdaBoost=AdaBoostRegressor()"
   ]
  },
  {
   "cell_type": "code",
   "execution_count": 32,
   "id": "a1ee11b5",
   "metadata": {},
   "outputs": [
    {
     "name": "stdout",
     "output_type": "stream",
     "text": [
      "------------------------------------------------------------\n",
      "The model LinearRegression() has:: \n",
      "\t Accuracy :: 95.2% \n",
      "\t Mean Absolute Error is :: 0.9316575153742803 \n",
      "\t Mean Squared Error is :: 1.475346954384468 \n",
      "\t Root Mean Squared Error is :: 1.2146386106099492\n",
      "------------------------------------------------------------\n",
      "\n",
      "\n",
      "------------------------------------------------------------\n",
      "The model DecisionTreeRegressor() has:: \n",
      "\t Accuracy :: 97.1% \n",
      "\t Mean Absolute Error is :: 0.6975 \n",
      "\t Mean Squared Error is :: 0.8877499999999998 \n",
      "\t Root Mean Squared Error is :: 0.9422048609511627\n",
      "------------------------------------------------------------\n",
      "\n",
      "\n",
      "------------------------------------------------------------\n",
      "The model RandomForestRegressor() has:: \n",
      "\t Accuracy :: 98.6% \n",
      "\t Mean Absolute Error is :: 0.5132749999999975 \n",
      "\t Mean Squared Error is :: 0.43198722499999515 \n",
      "\t Root Mean Squared Error is :: 0.6572573506625812\n",
      "------------------------------------------------------------\n",
      "\n",
      "\n",
      "------------------------------------------------------------\n",
      "The model KNeighborsRegressor() has:: \n",
      "\t Accuracy :: 98.5% \n",
      "\t Mean Absolute Error is :: 0.4960000000000003 \n",
      "\t Mean Squared Error is :: 0.47246000000000016 \n",
      "\t Root Mean Squared Error is :: 0.6873572579088695\n",
      "------------------------------------------------------------\n",
      "\n",
      "\n",
      "------------------------------------------------------------\n",
      "The model AdaBoostRegressor() has:: \n",
      "\t Accuracy :: 96.2% \n",
      "\t Mean Absolute Error is :: 0.8526195757434915 \n",
      "\t Mean Squared Error is :: 1.1853093541328592 \n",
      "\t Root Mean Squared Error is :: 1.0887191346407297\n",
      "------------------------------------------------------------\n",
      "\n",
      "\n"
     ]
    }
   ],
   "source": [
    "algo=[Linear,DecisionTree,RandomForest,knn,AdaBoost]\n",
    "acc_models={}\n",
    "for model in algo:\n",
    "    model.fit(X_train,Y_train)\n",
    "    Y_pred=model.predict(X_test)\n",
    "    print(\"-\"*60)\n",
    "    acc_models[model]=round(r2_score(Y_test,Y_pred)*100,1)\n",
    "    print(f\"The model {model} has:: \\n\\t Accuracy :: {round(r2_score(Y_test,Y_pred)*100,1)}% \\n\\t Mean Absolute Error is :: {mean_absolute_error(Y_test,Y_pred)} \\n\\t Mean Squared Error is :: {mean_squared_error(Y_test,Y_pred)} \\n\\t Root Mean Squared Error is :: {np.sqrt(mean_squared_error(Y_test,Y_pred))}\")\n",
    "    print(\"-\"*60)\n",
    "    print(\"\\n\")"
   ]
  },
  {
   "cell_type": "code",
   "execution_count": 33,
   "id": "a7018ffa",
   "metadata": {},
   "outputs": [
    {
     "data": {
      "text/plain": [
       "{LinearRegression(): 95.2,\n",
       " DecisionTreeRegressor(): 97.1,\n",
       " RandomForestRegressor(): 98.6,\n",
       " KNeighborsRegressor(): 98.5,\n",
       " AdaBoostRegressor(): 96.2}"
      ]
     },
     "execution_count": 33,
     "metadata": {},
     "output_type": "execute_result"
    }
   ],
   "source": [
    "acc_models"
   ]
  },
  {
   "cell_type": "markdown",
   "id": "d7752140",
   "metadata": {},
   "source": [
    "we get the maximum r2-score of each model"
   ]
  },
  {
   "cell_type": "markdown",
   "id": "4460b53c",
   "metadata": {},
   "source": [
    "# Crooss-Vaidation of the model"
   ]
  },
  {
   "cell_type": "code",
   "execution_count": 34,
   "id": "cb88a46b",
   "metadata": {},
   "outputs": [
    {
     "name": "stdout",
     "output_type": "stream",
     "text": [
      "\n",
      "LinearRegression()\n",
      "-------------------------\n",
      "\n",
      "\n",
      "Mean CV Score of model LinearRegression():: 0.8942166468026784 at k-fold::2\n",
      "\n",
      "Mean CV Score of model LinearRegression():: 0.8931635501481656 at k-fold::3\n",
      "\n",
      "Mean CV Score of model LinearRegression():: 0.8916530235661282 at k-fold::4\n",
      "\n",
      "Mean CV Score of model LinearRegression():: 0.889282957306453 at k-fold::5\n",
      "\n",
      "Mean CV Score of model LinearRegression():: 0.8910268337384196 at k-fold::6\n",
      "\n",
      "Mean CV Score of model LinearRegression():: 0.887824825599243 at k-fold::7\n",
      "\n",
      "Mean CV Score of model LinearRegression():: 0.8845638944511245 at k-fold::8\n",
      "\n",
      "Mean CV Score of model LinearRegression():: 0.8839789119628066 at k-fold::9\n",
      "\n",
      "\n",
      "DecisionTreeRegressor()\n",
      "-------------------------\n",
      "\n",
      "\n",
      "Mean CV Score of model DecisionTreeRegressor():: 0.9376498144089187 at k-fold::2\n",
      "\n",
      "Mean CV Score of model DecisionTreeRegressor():: 0.9588735632167639 at k-fold::3\n",
      "\n",
      "Mean CV Score of model DecisionTreeRegressor():: 0.9592548612313452 at k-fold::4\n",
      "\n",
      "Mean CV Score of model DecisionTreeRegressor():: 0.9617301484813143 at k-fold::5\n",
      "\n",
      "Mean CV Score of model DecisionTreeRegressor():: 0.9592736325933676 at k-fold::6\n",
      "\n",
      "Mean CV Score of model DecisionTreeRegressor():: 0.9619635290235438 at k-fold::7\n",
      "\n",
      "Mean CV Score of model DecisionTreeRegressor():: 0.9612956169438807 at k-fold::8\n",
      "\n",
      "Mean CV Score of model DecisionTreeRegressor():: 0.9612279262656277 at k-fold::9\n",
      "\n",
      "\n",
      "RandomForestRegressor()\n",
      "-------------------------\n",
      "\n",
      "\n",
      "Mean CV Score of model RandomForestRegressor():: 0.9734844064187316 at k-fold::2\n",
      "\n",
      "Mean CV Score of model RandomForestRegressor():: 0.9776479980582674 at k-fold::3\n",
      "\n",
      "Mean CV Score of model RandomForestRegressor():: 0.9818593238223654 at k-fold::4\n",
      "\n",
      "Mean CV Score of model RandomForestRegressor():: 0.9780914062600216 at k-fold::5\n",
      "\n",
      "Mean CV Score of model RandomForestRegressor():: 0.981699516971028 at k-fold::6\n",
      "\n",
      "Mean CV Score of model RandomForestRegressor():: 0.9800215890181588 at k-fold::7\n",
      "\n",
      "Mean CV Score of model RandomForestRegressor():: 0.9815138690126823 at k-fold::8\n",
      "\n",
      "Mean CV Score of model RandomForestRegressor():: 0.9797327410438427 at k-fold::9\n",
      "\n",
      "\n",
      "KNeighborsRegressor()\n",
      "-------------------------\n",
      "\n",
      "\n",
      "Mean CV Score of model KNeighborsRegressor():: 0.9573291175806596 at k-fold::2\n",
      "\n",
      "Mean CV Score of model KNeighborsRegressor():: 0.9647280142370276 at k-fold::3\n",
      "\n",
      "Mean CV Score of model KNeighborsRegressor():: 0.9678587622108249 at k-fold::4\n",
      "\n",
      "Mean CV Score of model KNeighborsRegressor():: 0.9664569127526399 at k-fold::5\n",
      "\n",
      "Mean CV Score of model KNeighborsRegressor():: 0.9692949627474031 at k-fold::6\n",
      "\n",
      "Mean CV Score of model KNeighborsRegressor():: 0.9708037342782869 at k-fold::7\n",
      "\n",
      "Mean CV Score of model KNeighborsRegressor():: 0.9703811209701304 at k-fold::8\n",
      "\n",
      "Mean CV Score of model KNeighborsRegressor():: 0.96932132551508 at k-fold::9\n",
      "\n",
      "\n",
      "AdaBoostRegressor()\n",
      "-------------------------\n",
      "\n",
      "\n",
      "Mean CV Score of model AdaBoostRegressor():: 0.9524708476224639 at k-fold::2\n",
      "\n",
      "Mean CV Score of model AdaBoostRegressor():: 0.9522622820421313 at k-fold::3\n",
      "\n",
      "Mean CV Score of model AdaBoostRegressor():: 0.9584474068263398 at k-fold::4\n",
      "\n",
      "Mean CV Score of model AdaBoostRegressor():: 0.953356389848279 at k-fold::5\n",
      "\n",
      "Mean CV Score of model AdaBoostRegressor():: 0.9608805344326189 at k-fold::6\n",
      "\n",
      "Mean CV Score of model AdaBoostRegressor():: 0.9539420585012834 at k-fold::7\n",
      "\n",
      "Mean CV Score of model AdaBoostRegressor():: 0.9557008111326051 at k-fold::8\n",
      "\n",
      "Mean CV Score of model AdaBoostRegressor():: 0.9533499772109961 at k-fold::9\n",
      "\n"
     ]
    }
   ],
   "source": [
    "CVmodel={}\n",
    "\n",
    "for model in algo:\n",
    "    CVscore_={}\n",
    "    print(f\"\\n{model}\")\n",
    "    print(\"-\"*25)\n",
    "    print(\"\\n\")\n",
    "    for i in range(2,10):\n",
    "        cvS=cross_val_score(model,X_scaled,Y,cv=i)\n",
    "        CVscore_[i]=cvS.mean()\n",
    "        print(f\"Mean CV Score of model {model}:: {cvS.mean()} at k-fold::{i}\\n\")\n",
    "    CVdata=pd.DataFrame(CVscore_,index=[\"\"])\n",
    "    CVmodel[str(model)]=CVdata.max(axis=1).tolist()"
   ]
  },
  {
   "cell_type": "code",
   "execution_count": 35,
   "id": "a17be1d9",
   "metadata": {},
   "outputs": [
    {
     "data": {
      "text/plain": [
       "{'LinearRegression()': [0.8942166468026784],\n",
       " 'DecisionTreeRegressor()': [0.9619635290235438],\n",
       " 'RandomForestRegressor()': [0.9818593238223654],\n",
       " 'KNeighborsRegressor()': [0.9708037342782869],\n",
       " 'AdaBoostRegressor()': [0.9608805344326189]}"
      ]
     },
     "execution_count": 35,
     "metadata": {},
     "output_type": "execute_result"
    }
   ],
   "source": [
    "CVmodel"
   ]
  },
  {
   "cell_type": "markdown",
   "id": "0d05e459",
   "metadata": {},
   "source": [
    "we can see the maximun CV score of each model"
   ]
  },
  {
   "cell_type": "code",
   "execution_count": 36,
   "id": "eacfc6db",
   "metadata": {},
   "outputs": [
    {
     "name": "stdout",
     "output_type": "stream",
     "text": [
      "The least difference between the r2-score and CV score of each model is::\n",
      "\n",
      "LinearRegression()::5.78\n",
      "DecisionTreeRegressor()::0.9\n",
      "RandomForestRegressor()::0.41\n",
      "KNeighborsRegressor()::1.42\n",
      "AdaBoostRegressor()::0.11\n"
     ]
    }
   ],
   "source": [
    "acc_value=list(acc_models.values ( ))\n",
    "\n",
    "m=list(CVmodel.keys())\n",
    "\n",
    "print(\"The least difference between the r2-score and CV score of each model is::\\n\")\n",
    "for i in range(5):\n",
    "    print(f\"{m[i]}::{round(np.abs(CVmodel[m[i]][0]*100-acc_value[i]),2)}\")"
   ]
  },
  {
   "cell_type": "markdown",
   "id": "60d919c9",
   "metadata": {},
   "source": [
    "model Adaboost Regressor we get the least value i.e. the difference between the r2-score and cvScore of this model is 0.25 . So, AdaBoost is the best model to use for this problem."
   ]
  },
  {
   "cell_type": "markdown",
   "id": "357bb6d7",
   "metadata": {},
   "source": [
    "# Plotting regplot graph for Adaboost model"
   ]
  },
  {
   "cell_type": "code",
   "execution_count": 37,
   "id": "f74e5b76",
   "metadata": {},
   "outputs": [
    {
     "name": "stderr",
     "output_type": "stream",
     "text": [
      "C:\\Users\\AT SYSTEM\\anaconda3\\lib\\site-packages\\seaborn\\_decorators.py:36: FutureWarning: Pass the following variables as keyword args: x, y. From version 0.12, the only valid positional argument will be `data`, and passing other arguments without an explicit keyword will result in an error or misinterpretation.\n",
      "  warnings.warn(\n"
     ]
    },
    {
     "data": {
      "image/png": "[encoded data removed]",
      "text/plain": [
       "<Figure size 432x288 with 1 Axes>"
      ]
     },
     "metadata": {
      "needs_background": "light"
     },
     "output_type": "display_data"
    }
   ],
   "source": [
    "ada=AdaBoostRegressor()\n",
    "ada.fit(X_train,Y_train)\n",
    "Y_pred=ada.predict(X_test)\n",
    "sns.regplot(Y_test,Y_pred)\n",
    "plt.xlabel(\"Actual Test Data\")\n",
    "plt.ylabel(\"Predicted Data\")\n",
    "plt.tight_layout()"
   ]
  },
  {
   "cell_type": "markdown",
   "id": "a9d4a326",
   "metadata": {},
   "source": [
    "we analyse that the data points are very close to the best fit line. That means the residual is less."
   ]
  },
  {
   "cell_type": "markdown",
   "id": "a192dae5",
   "metadata": {},
   "source": [
    "# Regularization"
   ]
  },
  {
   "cell_type": "code",
   "execution_count": 38,
   "id": "db5b6eb4",
   "metadata": {},
   "outputs": [],
   "source": [
    "import warnings\n",
    "warnings.filterwarnings(\"ignore\")"
   ]
  },
  {
   "cell_type": "code",
   "execution_count": 39,
   "id": "53077308",
   "metadata": {},
   "outputs": [
    {
     "data": {
      "text/plain": [
       "{'alpha': 0.0001, 'max_iter': 1000, 'normalize': False}"
      ]
     },
     "execution_count": 39,
     "metadata": {},
     "output_type": "execute_result"
    }
   ],
   "source": [
    "lasso=Lasso()\n",
    "parameters={\"alpha\":np.arange(0.0001,0.1,0.001),'normalize':[True,False],'max_iter':[1000,1500,2000]}\n",
    "grid=GridSearchCV(lasso,parameters)\n",
    "grid.fit(X_train,Y_train)\n",
    "grid.best_params_"
   ]
  },
  {
   "cell_type": "markdown",
   "id": "a1fef44e",
   "metadata": {},
   "source": [
    "we get the best paameter for Lasso. So, that we can see our model is overfitted/underfitted or not."
   ]
  },
  {
   "cell_type": "code",
   "execution_count": 40,
   "id": "6dd3e185",
   "metadata": {},
   "outputs": [
    {
     "data": {
      "text/plain": [
       "95.22294345777537"
      ]
     },
     "execution_count": 40,
     "metadata": {},
     "output_type": "execute_result"
    }
   ],
   "source": [
    "lasso=Lasso(alpha= 0.0001, max_iter= 1000, normalize=False)\n",
    "lasso.fit(X_train,Y_train)\n",
    "pred=lasso.predict(X_test)\n",
    "r2_score(Y_test,pred)*100"
   ]
  },
  {
   "cell_type": "markdown",
   "id": "846c0124",
   "metadata": {},
   "source": [
    "we can see that our model is not overfitted or underfitted as the r2 scoe Lasso model i.e. 95.22 is less or almost similiar with AdaBosst regressor model r2_score that is 95.7."
   ]
  },
  {
   "cell_type": "markdown",
   "id": "92a1e502",
   "metadata": {},
   "source": [
    "# Hyper parameter Tuning"
   ]
  },
  {
   "cell_type": "code",
   "execution_count": 44,
   "id": "e394e199",
   "metadata": {},
   "outputs": [],
   "source": [
    "params={\"base_estimator\":[Linear,DecisionTree,RandomForest],\"n_estimators\":[43,45,47],'learning_rate':[1.1,1.2,1.3],\"loss\":['linear','square','exponentia']}"
   ]
  },
  {
   "cell_type": "code",
   "execution_count": 43,
   "id": "5cb866c1",
   "metadata": {},
   "outputs": [
    {
     "data": {
      "text/plain": [
       "AdaBoostRegressor(base_estimator=RandomForestRegressor(), learning_rate=1.1,\n",
       "                  n_estimators=47)"
      ]
     },
     "execution_count": 43,
     "metadata": {},
     "output_type": "execute_result"
    }
   ],
   "source": [
    "grid.best_estimator_"
   ]
  },
  {
   "cell_type": "code",
   "execution_count": 45,
   "id": "9c433b7b",
   "metadata": {},
   "outputs": [],
   "source": [
    "ada=AdaBoostRegressor(base_estimator=RandomForestRegressor(), learning_rate=1.3, n_estimators=47)\n",
    "ada.fit(X_train,Y_train)\n",
    "Y_pred=ada.predict(X_test)"
   ]
  },
  {
   "cell_type": "markdown",
   "id": "bc5ea406",
   "metadata": {},
   "source": [
    "# Model evaluation"
   ]
  },
  {
   "cell_type": "code",
   "execution_count": 50,
   "id": "50d88461",
   "metadata": {},
   "outputs": [
    {
     "name": "stdout",
     "output_type": "stream",
     "text": [
      "The model AdaBoost Regressor has:: \n",
      "\t Accuracy :: 98.9% \n",
      "\t Mean Absolute Error is :: 0.45182500000000153 \n",
      "\t Mean Squared Error is :: 0.3544922249999982 \n",
      "\t Root Mean Squared Error is :: 0.5953924965936321\n"
     ]
    }
   ],
   "source": [
    "print(f\"The model AdaBoost Regressor has:: \\n\\t Accuracy :: {round(r2_score(Y_test,Y_pred)*100,1)}% \\n\\t Mean Absolute Error is :: {mean_absolute_error(Y_test,Y_pred)} \\n\\t Mean Squared Error is :: {mean_squared_error(Y_test,Y_pred)} \\n\\t Root Mean Squared Error is :: {np.sqrt(mean_squared_error(Y_test,Y_pred))}\")\n"
   ]
  },
  {
   "cell_type": "markdown",
   "id": "842a0acd",
   "metadata": {},
   "source": [
    "The model AdaBoost Regressor has:: \n",
    "\t Accuracy :: 98.9% \n",
    "\t Mean Absolute Error is :: 0.43762500000000026 \n",
    "\t Mean Squared Error is :: 0.33584892499999813 \n",
    "\t Root Mean Squared Error is :: 0.5795247406280409\n",
    "Here we can see that our accuracy has increased & The mean_absolute Error ,Mean_sqaured_error, Root_mean_sqaured_error has decreased."
   ]
  },
  {
   "cell_type": "code",
   "execution_count": 51,
   "id": "6a09800c",
   "metadata": {},
   "outputs": [
    {
     "data": {
      "image/png": "[encoded data removed]",
      "text/plain": [
       "<Figure size 432x288 with 1 Axes>"
      ]
     },
     "metadata": {
      "needs_background": "light"
     },
     "output_type": "display_data"
    }
   ],
   "source": [
    "sns.regplot(Y_test,Y_pred)\n",
    "plt.xlabel(\"Actual Test Data\")\n",
    "plt.ylabel(\"Predicted Data\")\n",
    "plt.tight_layout()"
   ]
  },
  {
   "cell_type": "markdown",
   "id": "2c9f9b8a",
   "metadata": {},
   "source": [
    "we can see that the points are now much closer than the earlier adaboost model with default parameter to the best fit line, Its due to decrease in mean absolute error, mean Squared Error,& Root mean squared error."
   ]
  },
  {
   "cell_type": "markdown",
   "id": "485b2b64",
   "metadata": {},
   "source": [
    "# Saving model"
   ]
  },
  {
   "cell_type": "code",
   "execution_count": 52,
   "id": "79277dd2",
   "metadata": {},
   "outputs": [
    {
     "data": {
      "text/plain": [
       "['Advertisement_model.obj']"
      ]
     },
     "execution_count": 52,
     "metadata": {},
     "output_type": "execute_result"
    }
   ],
   "source": [
    "import joblib\n",
    "joblib.dump(ada,'Advertisement_model.obj')"
   ]
  },
  {
   "cell_type": "code",
   "execution_count": null,
   "id": "aed69247",
   "metadata": {},
   "outputs": [],
   "source": []
  }
 ],
 "metadata": {
  "kernelspec": {
   "display_name": "Python 3",
   "language": "python",
   "name": "python3"
  },
  "language_info": {
   "codemirror_mode": {
    "name": "ipython",
    "version": 3
   },
   "file_extension": ".py",
   "mimetype": "text/x-python",
   "name": "python",
   "nbconvert_exporter": "python",
   "pygments_lexer": "ipython3",
   "version": "3.8.8"
  }
 },
 "nbformat": 4,
 "nbformat_minor": 5
}
